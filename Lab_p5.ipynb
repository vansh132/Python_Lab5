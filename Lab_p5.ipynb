{
 "cells": [
  {
   "cell_type": "markdown",
   "metadata": {},
   "source": [
    "Write a program which accepts as input a DOB in the format \"dd/mm/yyyy \"and prints AGE of the person. Validate the input using Exceptional Handling \n",
    "\n",
    "    If no input is given, prompt user to enter input \n",
    "\n",
    "    If \"?\" is typed help the user by telling him/her to enter Data of Birth in the required format \n",
    "\n",
    "    If date is entered validate the correctness of the date and print AGE \n",
    "\n",
    "    If \"q\" or \"Q\" is entered invoke a user defined exception which quits the program after printing \"Bye! Hope you run this program again\". \n"
   ]
  },
  {
   "cell_type": "code",
   "execution_count": 12,
   "metadata": {},
   "outputs": [
    {
     "name": "stdout",
     "output_type": "stream",
     "text": [
      "['20', '05', '2024']\n",
      "Invalid format\n",
      "['q']\n",
      "Bye! Hope you run this program again.\n"
     ]
    }
   ],
   "source": [
    "from dateutil import parser\n",
    "\n",
    "class End(Exception):\n",
    "    \"Bye! Hope you run this program again.\"\n",
    "    pass\n",
    "\n",
    "while(1):\n",
    "    dob = input(\"Enter DOB (dd/mm/yyyy): \")\n",
    "    year = dob.split('/')\n",
    "    if dob == \"\":\n",
    "        print(\"Please enter DOB\")\n",
    "    elif dob == \"?\":\n",
    "        print(\"Enter DOB in format: (dd/mm/yyyy)\")\n",
    "    elif len(year) == 3 and int(year[1]) > 12:\n",
    "        print(\"Invalid Format. Please enter date in (dd/mm/yyyy) format\")\n",
    "    else:\n",
    "        try:\n",
    "            if dob == 'q' or dob == 'Q':\n",
    "                raise End\n",
    "            parser.parse(dob)\n",
    "            year = int( year[2])\n",
    "            age = 2023 - year\n",
    "            if age < 0:\n",
    "                raise ValueError\n",
    "            print(f\"Your age is: {age}\")\n",
    "        except(End):\n",
    "            print(\"Bye! Hope you run this program again.\")\n",
    "            break\n",
    "        except(ValueError):\n",
    "            print(\"Invalid format\")\n",
    "\n"
   ]
  }
 ],
 "metadata": {
  "kernelspec": {
   "display_name": "Python 3",
   "language": "python",
   "name": "python3"
  },
  "language_info": {
   "codemirror_mode": {
    "name": "ipython",
    "version": 3
   },
   "file_extension": ".py",
   "mimetype": "text/x-python",
   "name": "python",
   "nbconvert_exporter": "python",
   "pygments_lexer": "ipython3",
   "version": "3.11.4"
  },
  "orig_nbformat": 4
 },
 "nbformat": 4,
 "nbformat_minor": 2
}
